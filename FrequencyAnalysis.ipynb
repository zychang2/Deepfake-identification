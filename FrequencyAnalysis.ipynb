{
  "cells": [
    {
      "cell_type": "markdown",
      "metadata": {
        "id": "view-in-github",
        "colab_type": "text"
      },
      "source": [
        "<a href=\"https://colab.research.google.com/github/zychang2/GAN-Generated-Deepfake-Identification-and-Transferability-of-Deepfake-Detectors/blob/main/FrequencyAnalysis.ipynb\" target=\"_parent\"><img src=\"https://colab.research.google.com/assets/colab-badge.svg\" alt=\"Open In Colab\"/></a>"
      ]
    },
    {
      "cell_type": "code",
      "execution_count": null,
      "metadata": {
        "colab": {
          "base_uri": "https://localhost:8080/"
        },
        "id": "kAL8SD9TNOfA",
        "outputId": "c3fdbf59-deaf-46ae-a620-09419af4ac1e"
      },
      "outputs": [
        {
          "output_type": "stream",
          "name": "stdout",
          "text": [
            "Looking in indexes: https://pypi.org/simple, https://us-python.pkg.dev/colab-wheels/public/simple/\n",
            "Requirement already satisfied: numpy in /usr/local/lib/python3.9/dist-packages (1.22.4)\n",
            "Requirement already satisfied: Pillow in /usr/local/lib/python3.9/dist-packages (8.4.0)\n",
            "Requirement already satisfied: opencv-python in /usr/local/lib/python3.9/dist-packages (4.7.0.72)\n"
          ]
        }
      ],
      "source": [
        "# Installations\n",
        "!pip install numpy Pillow opencv-python"
      ]
    },
    {
      "cell_type": "code",
      "execution_count": null,
      "metadata": {
        "id": "nx2LWK-nNd5d"
      },
      "outputs": [],
      "source": [
        "from PIL import Image\n",
        "import numpy as np\n",
        "import cv2"
      ]
    },
    {
      "cell_type": "code",
      "execution_count": null,
      "metadata": {
        "colab": {
          "base_uri": "https://localhost:8080/"
        },
        "id": "DriWBXHVNYlo",
        "outputId": "a2bc7e79-2925-4b3e-d03a-4221b26044b2"
      },
      "outputs": [
        {
          "output_type": "stream",
          "name": "stdout",
          "text": [
            "Drive already mounted at /content/drive; to attempt to forcibly remount, call drive.mount(\"/content/drive\", force_remount=True).\n"
          ]
        }
      ],
      "source": [
        "# Mount drive\n",
        "from google.colab import drive\n",
        "drive.mount('/content/drive')"
      ]
    },
    {
      "cell_type": "code",
      "execution_count": null,
      "metadata": {
        "colab": {
          "base_uri": "https://localhost:8080/",
          "height": 70
        },
        "id": "ipYT9FMkNH_I",
        "outputId": "e27b5988-6b5d-4c4e-e04d-e43f864f5f39"
      },
      "outputs": [
        {
          "output_type": "stream",
          "name": "stdout",
          "text": [
            "\u001b[0m\u001b[01;34mdrive\u001b[0m/  \u001b[01;34msample_data\u001b[0m/\n",
            "/content/drive/.shortcut-targets-by-id/1Eygv2QTlqbb8Le-zHz_mn5pxTsNnjIdY/EECS442_Project\n"
          ]
        },
        {
          "output_type": "execute_result",
          "data": {
            "text/plain": [
              "'/content/drive/.shortcut-targets-by-id/1Eygv2QTlqbb8Le-zHz_mn5pxTsNnjIdY/EECS442_Project'"
            ],
            "application/vnd.google.colaboratory.intrinsic+json": {
              "type": "string"
            }
          },
          "metadata": {},
          "execution_count": 4
        }
      ],
      "source": [
        "%pwd\n",
        "%ls\n",
        "%cd drive/MyDrive/EECS442_Project/\n",
        "%pwd"
      ]
    },
    {
      "cell_type": "code",
      "execution_count": null,
      "metadata": {
        "id": "P7Onx-oMgYDx"
      },
      "outputs": [],
      "source": [
        "import os"
      ]
    },
    {
      "cell_type": "code",
      "execution_count": null,
      "metadata": {
        "id": "S8hRurVVf0AT"
      },
      "outputs": [],
      "source": [
        "def generate_dct(filename, in_folder_path, out_folder_path):\n",
        "\n",
        "    image = cv2.imread(f\"{in_folder_path}{filename}\")\n",
        "\n",
        "    img_gray = cv2.cvtColor(image, cv2.COLOR_BGR2GRAY)\n",
        "\n",
        "    dct_grayscale_image = cv2.dct(np.float32(img_gray) / 255.0)\n",
        "\n",
        "    img_dct = np.uint8(dct_grayscale_image*255.0)\n",
        "\n",
        "    out_path = f\"{out_folder_path}{filename}\"\n",
        "\n",
        "    cv2.imwrite(out_path, img_dct)\n",
        "\n",
        "    # Generate colormapped images (for paper)\n",
        "    imc = cv2.applyColorMap(img_dct, cv2.COLORMAP_VIRIDIS)\n",
        "\n",
        "    cv2.imwrite(\"fake_XL_dct_colormap.png\", imc)\n",
        "\n",
        "\n",
        "\n",
        "in_folder_path = 'fake_XL/'\n",
        "out_folder_path = 'dct_XL/'\n",
        "generate_dct('seed0000.png', in_folder_path, out_folder_path)\n",
        "\n"
      ]
    },
    {
      "cell_type": "code",
      "execution_count": null,
      "metadata": {
        "id": "Ycjum_zmhNrU"
      },
      "outputs": [],
      "source": [
        "for filename in os.listdir(\"00000/\"):\n",
        "    in_folder_path = \"00000/\"\n",
        "    out_folder_path = \"dct_real_imgs/\"\n",
        "    generate_dct(filename, in_folder_path, out_folder_path)"
      ]
    },
    {
      "cell_type": "code",
      "execution_count": null,
      "metadata": {
        "colab": {
          "background_save": true
        },
        "id": "68R1ww2OgzSc"
      },
      "outputs": [],
      "source": [
        "import csv\n",
        "\n",
        "fake_img_dir = 'dct_fake_imgs/'\n",
        "real_img_dir = 'dct_real_imgs/'\n",
        "\n",
        "data = [['path', 'class']]\n",
        "\n",
        "for filename in os.listdir(fake_img_dir):\n",
        "  path = f\"{fake_img_dir}{filename}\"\n",
        "  data.append([path, 0])\n",
        "\n",
        "for filename in os.listdir(real_img_dir):\n",
        "  path = f\"{real_img_dir}{filename}\"\n",
        "  data.append([path, 1])\n",
        "\n",
        "print(data)\n",
        "\n",
        "with open('dct_data.csv', 'w', newline='') as csvfile:\n",
        "  csvwriter = csv.writer(csvfile)\n",
        "\n",
        "  csvwriter.writerows(data)"
      ]
    }
  ],
  "metadata": {
    "colab": {
      "provenance": [],
      "include_colab_link": true
    },
    "kernelspec": {
      "display_name": "Python 3",
      "name": "python3"
    },
    "language_info": {
      "name": "python"
    }
  },
  "nbformat": 4,
  "nbformat_minor": 0
}